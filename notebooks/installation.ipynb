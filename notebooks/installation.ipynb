{
 "cells": [
  {
   "cell_type": "code",
   "execution_count": 18,
   "metadata": {},
   "outputs": [
    {
     "name": "stdout",
     "output_type": "stream",
     "text": [
      "# conda environments:\n",
      "#\n",
      "base                  *  /opt/miniconda\n",
      "lidar                    /opt/miniconda/envs/lidar\n",
      "\n"
     ]
    }
   ],
   "source": [
    "!conda env list"
   ]
  },
  {
   "cell_type": "code",
   "execution_count": 19,
   "metadata": {},
   "outputs": [
    {
     "name": "stdout",
     "output_type": "stream",
     "text": [
      "\n",
      "CommandNotFoundError: Your shell has not been properly configured to use 'conda activate'.\n",
      "To initialize your shell, run\n",
      "\n",
      "    $ conda init <SHELL_NAME>\n",
      "\n",
      "Currently supported shells are:\n",
      "  - bash\n",
      "  - fish\n",
      "  - tcsh\n",
      "  - xonsh\n",
      "  - zsh\n",
      "  - powershell\n",
      "\n",
      "See 'conda init --help' for more information and options.\n",
      "\n",
      "IMPORTANT: You may need to close and restart your shell after running 'conda init'.\n",
      "\n",
      "\n"
     ]
    }
   ],
   "source": [
    "!conda activate lidar"
   ]
  },
  {
   "cell_type": "code",
   "execution_count": 10,
   "metadata": {},
   "outputs": [
    {
     "name": "stdout",
     "output_type": "stream",
     "text": [
      "no change     /opt/miniconda/condabin/conda\n",
      "no change     /opt/miniconda/bin/conda\n",
      "no change     /opt/miniconda/bin/conda-env\n",
      "no change     /opt/miniconda/bin/activate\n",
      "no change     /opt/miniconda/bin/deactivate\n",
      "no change     /opt/miniconda/etc/profile.d/conda.sh\n",
      "no change     /opt/miniconda/etc/fish/conf.d/conda.fish\n",
      "no change     /opt/miniconda/shell/condabin/Conda.psm1\n",
      "no change     /opt/miniconda/shell/condabin/conda-hook.ps1\n",
      "no change     /opt/miniconda/lib/python3.9/site-packages/xontrib/conda.xsh\n",
      "no change     /opt/miniconda/etc/profile.d/conda.csh\n",
      "no change     /home/abel_mitiku/.bashrc\n",
      "No action taken.\n"
     ]
    }
   ],
   "source": [
    "!conda init"
   ]
  },
  {
   "cell_type": "code",
   "execution_count": 11,
   "metadata": {},
   "outputs": [
    {
     "name": "stdout",
     "output_type": "stream",
     "text": [
      "# conda environments:\n",
      "#\n",
      "base                  *  /opt/miniconda\n",
      "lidar                    /opt/miniconda/envs/lidar\n",
      "\n",
      "\n",
      "Note: you may need to restart the kernel to use updated packages.\n"
     ]
    }
   ],
   "source": [
    "conda env list"
   ]
  },
  {
   "cell_type": "code",
   "execution_count": 17,
   "metadata": {},
   "outputs": [
    {
     "name": "stdout",
     "output_type": "stream",
     "text": [
      "\n",
      "CommandNotFoundError: Your shell has not been properly configured to use 'conda activate'.\n",
      "To initialize your shell, run\n",
      "\n",
      "    $ conda init <SHELL_NAME>\n",
      "\n",
      "Currently supported shells are:\n",
      "  - bash\n",
      "  - fish\n",
      "  - tcsh\n",
      "  - xonsh\n",
      "  - zsh\n",
      "  - powershell\n",
      "\n",
      "See 'conda init --help' for more information and options.\n",
      "\n",
      "IMPORTANT: You may need to close and restart your shell after running 'conda init'.\n",
      "\n",
      "\n"
     ]
    }
   ],
   "source": [
    "!conda activate lidar"
   ]
  },
  {
   "cell_type": "code",
   "execution_count": 16,
   "metadata": {},
   "outputs": [
    {
     "name": "stdout",
     "output_type": "stream",
     "text": [
      "no change     /opt/miniconda/condabin/conda\n",
      "no change     /opt/miniconda/bin/conda\n",
      "no change     /opt/miniconda/bin/conda-env\n",
      "no change     /opt/miniconda/bin/activate\n",
      "no change     /opt/miniconda/bin/deactivate\n",
      "no change     /opt/miniconda/etc/profile.d/conda.sh\n",
      "no change     /opt/miniconda/etc/fish/conf.d/conda.fish\n",
      "no change     /opt/miniconda/shell/condabin/Conda.psm1\n",
      "no change     /opt/miniconda/shell/condabin/conda-hook.ps1\n",
      "no change     /opt/miniconda/lib/python3.9/site-packages/xontrib/conda.xsh\n",
      "no change     /opt/miniconda/etc/profile.d/conda.csh\n",
      "no change     /home/abel_mitiku/.bashrc\n",
      "No action taken.\n"
     ]
    }
   ],
   "source": [
    "!conda init bash"
   ]
  },
  {
   "cell_type": "code",
   "execution_count": 22,
   "metadata": {},
   "outputs": [
    {
     "name": "stdout",
     "output_type": "stream",
     "text": [
      "Collecting package metadata (current_repodata.json): failed\n",
      "\n",
      "NotWritableError: The current user does not have write permissions to a required path.\n",
      "  path: /opt/miniconda/pkgs/cache/9e0f62c3.json\n",
      "  uid: 1001\n",
      "  gid: 1001\n",
      "\n",
      "If you feel that permissions on this path are set incorrectly, you can manually\n",
      "change them by executing\n",
      "\n",
      "  $ sudo chown 1001:1001 /opt/miniconda/pkgs/cache/9e0f62c3.json\n",
      "\n",
      "In general, it's not advisable to use 'sudo conda'.\n",
      "\n",
      "\n"
     ]
    }
   ],
   "source": [
    "!conda install geopandas"
   ]
  },
  {
   "cell_type": "code",
   "execution_count": null,
   "metadata": {},
   "outputs": [],
   "source": []
  }
 ],
 "metadata": {
  "kernelspec": {
   "display_name": "Python [conda env:root] *",
   "language": "python",
   "name": "conda-root-py"
  },
  "language_info": {
   "codemirror_mode": {
    "name": "ipython",
    "version": 3
   },
   "file_extension": ".py",
   "mimetype": "text/x-python",
   "name": "python",
   "nbconvert_exporter": "python",
   "pygments_lexer": "ipython3",
   "version": "3.9.12"
  }
 },
 "nbformat": 4,
 "nbformat_minor": 4
}
