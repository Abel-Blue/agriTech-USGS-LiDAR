{
 "cells": [
  {
   "cell_type": "code",
   "execution_count": 5,
   "metadata": {},
   "outputs": [],
   "source": [
    "\n",
    "#Adding scripts path\n",
    "import sys\n",
    "sys.path.insert(0,'../scripts/')\n",
    "from fetchLidarData import Lidar_Data_Fetch"
   ]
  },
  {
   "cell_type": "code",
   "execution_count": 6,
   "metadata": {},
   "outputs": [],
   "source": [
    "object = Lidar_Data_Fetch()"
   ]
  },
  {
   "cell_type": "code",
   "execution_count": 7,
   "metadata": {},
   "outputs": [
    {
     "data": {
      "text/plain": [
       "{'pipeline': [{'bounds': '',\n",
       "   'filename': '',\n",
       "   'type': 'readers.ept',\n",
       "   'tag': 'readdata'},\n",
       "  {'inputs': ['readdata'],\n",
       "   'polygon': '',\n",
       "   'type': 'filters.crop',\n",
       "   'tag': 'crop'},\n",
       "  {'limits': 'Classification![2:2]',\n",
       "   'inputs': ['crop'],\n",
       "   'type': 'filters.range',\n",
       "   'tag': 'nonoise'},\n",
       "  {'assignment': 'Classification[:]=0',\n",
       "   'tag': 'wipeclasses',\n",
       "   'type': 'filters.assign'},\n",
       "  {'tag': 'groundify', 'type': 'filters.smrf'},\n",
       "  {'limits': 'Classification[2:2]',\n",
       "   'type': 'filters.range',\n",
       "   'tag': 'classify'},\n",
       "  {'in_srs': 'EPSG:3857 ',\n",
       "   'out_srs': '',\n",
       "   'tag': 'reprojection',\n",
       "   'type': 'filters.reprojection'}]}"
      ]
     },
     "execution_count": 7,
     "metadata": {},
     "output_type": "execute_result"
    }
   ],
   "source": [
    "object.readFetchJson()"
   ]
  },
  {
   "cell_type": "code",
   "execution_count": null,
   "metadata": {},
   "outputs": [],
   "source": []
  }
 ],
 "metadata": {
  "kernelspec": {
   "display_name": "Python 3.10.5 ('lidar')",
   "language": "python",
   "name": "python3"
  },
  "language_info": {
   "codemirror_mode": {
    "name": "ipython",
    "version": 3
   },
   "file_extension": ".py",
   "mimetype": "text/x-python",
   "name": "python",
   "nbconvert_exporter": "python",
   "pygments_lexer": "ipython3",
   "version": "3.10.5"
  },
  "orig_nbformat": 4,
  "vscode": {
   "interpreter": {
    "hash": "1283face4d927097908095ef3c2e85f0214191ac4684e19d604ce6b598448e48"
   }
  }
 },
 "nbformat": 4,
 "nbformat_minor": 2
}
